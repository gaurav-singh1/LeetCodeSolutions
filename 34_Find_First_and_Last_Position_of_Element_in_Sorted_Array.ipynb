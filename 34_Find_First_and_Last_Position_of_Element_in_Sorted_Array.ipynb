{
  "nbformat": 4,
  "nbformat_minor": 0,
  "metadata": {
    "colab": {
      "provenance": [],
      "authorship_tag": "ABX9TyP7xTfRGYW4qsKj0D9cx25h",
      "include_colab_link": true
    },
    "kernelspec": {
      "name": "python3",
      "display_name": "Python 3"
    },
    "language_info": {
      "name": "python"
    }
  },
  "cells": [
    {
      "cell_type": "markdown",
      "metadata": {
        "id": "view-in-github",
        "colab_type": "text"
      },
      "source": [
        "<a href=\"https://colab.research.google.com/github/gaurav-singh1/LeetCodeSolutions/blob/master/34_Find_First_and_Last_Position_of_Element_in_Sorted_Array.ipynb\" target=\"_parent\"><img src=\"https://colab.research.google.com/assets/colab-badge.svg\" alt=\"Open In Colab\"/></a>"
      ]
    },
    {
      "cell_type": "code",
      "source": [
        "# Input: nums = [5,7,7,8,8,10], target = 8\n",
        "# Output: [3,4]\n",
        "\n",
        "\n",
        "# Input: nums = [5,7,7,8,8,10], target = 6\n",
        "# Output: [-1,-1]\n",
        "\n",
        "# Input: nums = [], target = 0\n",
        "# Output: [-1,-1]"
      ],
      "metadata": {
        "id": "b94nLBSOxVyR"
      },
      "execution_count": null,
      "outputs": []
    },
    {
      "cell_type": "code",
      "execution_count": 2,
      "metadata": {
        "id": "GjP6GwCNxRNY"
      },
      "outputs": [],
      "source": [
        "class Solution:\n",
        "    def searchRange(self, nums, target: int):\n",
        "        if(not nums):\n",
        "            return [-1, -1]\n",
        "        \n",
        "        \n",
        "        "
      ]
    },
    {
      "cell_type": "code",
      "source": [
        "ss = Solution();\n",
        "\n",
        "nums = []\n",
        "target = 0;\n",
        "\n",
        "ss.searchRange(nums, target)"
      ],
      "metadata": {
        "colab": {
          "base_uri": "https://localhost:8080/"
        },
        "id": "uifY29ROxotC",
        "outputId": "242a3245-7d2c-4db2-daf6-b6c9cf23a37a"
      },
      "execution_count": 3,
      "outputs": [
        {
          "output_type": "execute_result",
          "data": {
            "text/plain": [
              "[-1, -1]"
            ]
          },
          "metadata": {},
          "execution_count": 3
        }
      ]
    },
    {
      "cell_type": "code",
      "source": [],
      "metadata": {
        "id": "lcYTYCgIx2rM"
      },
      "execution_count": null,
      "outputs": []
    }
  ]
}