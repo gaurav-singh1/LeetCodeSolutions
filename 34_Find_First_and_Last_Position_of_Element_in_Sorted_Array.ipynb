{
  "nbformat": 4,
  "nbformat_minor": 0,
  "metadata": {
    "colab": {
      "provenance": [],
      "authorship_tag": "ABX9TyMvb52sAtjHa12o8nUhAn3C",
      "include_colab_link": true
    },
    "kernelspec": {
      "name": "python3",
      "display_name": "Python 3"
    },
    "language_info": {
      "name": "python"
    }
  },
  "cells": [
    {
      "cell_type": "markdown",
      "metadata": {
        "id": "view-in-github",
        "colab_type": "text"
      },
      "source": [
        "<a href=\"https://colab.research.google.com/github/gaurav-singh1/LeetCodeSolutions/blob/master/34_Find_First_and_Last_Position_of_Element_in_Sorted_Array.ipynb\" target=\"_parent\"><img src=\"https://colab.research.google.com/assets/colab-badge.svg\" alt=\"Open In Colab\"/></a>"
      ]
    },
    {
      "cell_type": "code",
      "source": [
        "# Input: nums = [5,7,7,8,8,10], target = 8\n",
        "# Output: [3,4]\n",
        "\n",
        "\n",
        "# Input: nums = [5,7,7,8,8,10], target = 6\n",
        "# Output: [-1,-1]\n",
        "\n",
        "# Input: nums = [], target = 0\n",
        "# Output: [-1,-1]"
      ],
      "metadata": {
        "id": "b94nLBSOxVyR"
      },
      "execution_count": null,
      "outputs": []
    },
    {
      "cell_type": "code",
      "execution_count": 23,
      "metadata": {
        "id": "GjP6GwCNxRNY"
      },
      "outputs": [],
      "source": [
        "class Solution:\n",
        "    def findLowerIdx(self, nums, target, low, high):\n",
        "      if(high<low):\n",
        "          return -1;\n",
        "      \n",
        "      m = (low + high)//2;\n",
        "\n",
        "      # condition for solution\n",
        "      if(nums[m]==target and (m-1<0 or nums[m-1]<target )):\n",
        "          return m;\n",
        "      \n",
        "      # condition for reducing search space\n",
        "      if(nums[m] < target):\n",
        "          low = m+1;\n",
        "      \n",
        "      if(nums[m]>=target):\n",
        "          high = m-1;\n",
        "      \n",
        "      idx = self.findLowerIdx(nums, target, low, high)\n",
        "\n",
        "      return idx\n",
        "\n",
        "\n",
        "    def findHigherIdx(self, nums, target, low, high):\n",
        "      if(high<low):\n",
        "          return -1;\n",
        "      \n",
        "      m = (low + high)//2;\n",
        "\n",
        "      # condition for solution\n",
        "      if(nums[m]==target and (m+1>len(nums)-1 or nums[m+1]>target )):\n",
        "          return m;\n",
        "      \n",
        "      # condition for reducing search space\n",
        "      if(nums[m] <= target):\n",
        "          low = m+1;\n",
        "      \n",
        "      if(nums[m]>target):\n",
        "          high = m-1;\n",
        "      \n",
        "      idx = self.findHigherIdx(nums, target, low, high)\n",
        "\n",
        "      return idx\n",
        "\n",
        "      \n",
        "    def searchRange(self, nums, target: int):\n",
        "        if(not nums):\n",
        "            return [-1, -1]\n",
        "        \n",
        "        idx_low = self.findLowerIdx(nums, target, 0 , len(nums) - 1);\n",
        "        idx_high = self.findHigherIdx(nums, target, 0 , len(nums) - 1);\n",
        "\n",
        "        return [idx_low, idx_high]\n"
      ]
    },
    {
      "cell_type": "code",
      "source": [
        "ss = Solution();\n",
        "\n",
        "nums = [0, 3,3, 4,5,5,5]\n",
        "target = 7;\n",
        "\n",
        "ss.searchRange(nums, target)"
      ],
      "metadata": {
        "colab": {
          "base_uri": "https://localhost:8080/"
        },
        "id": "uifY29ROxotC",
        "outputId": "b6f7f0d2-9984-4478-c6cf-994af56e4487"
      },
      "execution_count": 24,
      "outputs": [
        {
          "output_type": "execute_result",
          "data": {
            "text/plain": [
              "[-1, -1]"
            ]
          },
          "metadata": {},
          "execution_count": 24
        }
      ]
    },
    {
      "cell_type": "code",
      "source": [],
      "metadata": {
        "id": "lcYTYCgIx2rM"
      },
      "execution_count": null,
      "outputs": []
    }
  ]
}