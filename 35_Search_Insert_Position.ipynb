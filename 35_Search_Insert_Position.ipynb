{
  "nbformat": 4,
  "nbformat_minor": 0,
  "metadata": {
    "colab": {
      "provenance": [],
      "authorship_tag": "ABX9TyNVSdHEjsWKOgw1gPjihnNa",
      "include_colab_link": true
    },
    "kernelspec": {
      "name": "python3",
      "display_name": "Python 3"
    },
    "language_info": {
      "name": "python"
    }
  },
  "cells": [
    {
      "cell_type": "markdown",
      "metadata": {
        "id": "view-in-github",
        "colab_type": "text"
      },
      "source": [
        "<a href=\"https://colab.research.google.com/github/gaurav-singh1/LeetCodeSolutions/blob/master/35_Search_Insert_Position.ipynb\" target=\"_parent\"><img src=\"https://colab.research.google.com/assets/colab-badge.svg\" alt=\"Open In Colab\"/></a>"
      ]
    },
    {
      "cell_type": "code",
      "source": [
        "# Example 1:\n",
        "\n",
        "# Input: nums = [1,3,5,6], target = 5\n",
        "# Output: 2\n",
        "# Example 2:\n",
        "\n",
        "# Input: nums = [1,3,5,6], target = 2\n",
        "# Output: 1\n",
        "# Example 3:\n",
        "\n",
        "# Input: nums = [1,3,5,6], target = 7\n",
        "# Output: 4"
      ],
      "metadata": {
        "id": "lcYTYCgIx2rM"
      },
      "execution_count": 25,
      "outputs": []
    },
    {
      "cell_type": "code",
      "source": [
        "class Solution:\n",
        "    def searchInsert(self, nums, target) -> int:\n",
        "        low = 0;\n",
        "        high = len(nums) ;\n",
        "\n",
        "        while(low<high):\n",
        "          m = (low + high)//2;\n",
        "          if(nums[m]==target):\n",
        "            return m;\n",
        "          if(nums[low]<target):\n",
        "            low+=1;\n",
        "          else:\n",
        "            high-=1;\n",
        "        return low"
      ],
      "metadata": {
        "id": "ItuuchuGBgIi"
      },
      "execution_count": 46,
      "outputs": []
    },
    {
      "cell_type": "code",
      "source": [
        "nums = []\n",
        "target = 2\n",
        "ss = Solution();\n",
        "ss.searchInsert(nums, target)"
      ],
      "metadata": {
        "colab": {
          "base_uri": "https://localhost:8080/"
        },
        "id": "jtdcQDL3EHLF",
        "outputId": "2b4cbabe-4bc3-4977-8144-9eda662c3765"
      },
      "execution_count": 48,
      "outputs": [
        {
          "output_type": "execute_result",
          "data": {
            "text/plain": [
              "0"
            ]
          },
          "metadata": {},
          "execution_count": 48
        }
      ]
    },
    {
      "cell_type": "code",
      "source": [],
      "metadata": {
        "id": "BlXF3KpNEOp5"
      },
      "execution_count": null,
      "outputs": []
    }
  ]
}